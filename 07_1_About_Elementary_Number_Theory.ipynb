{
  "nbformat": 4,
  "nbformat_minor": 0,
  "metadata": {
    "colab": {
      "name": "07_1_About_Elementary_Number_Theory.ipynb",
      "provenance": []
    },
    "kernelspec": {
      "name": "python3",
      "display_name": "Python 3"
    }
  },
  "cells": [
    {
      "cell_type": "markdown",
      "metadata": {
        "id": "j3egiaqzb89k"
      },
      "source": [
        "# About Elementary Number Theory\n",
        "## Divide, Pair, and Conquer\n",
        "### Due: Tuesday, 16 February 2021, 11:59 pm"
      ]
    },
    {
      "cell_type": "markdown",
      "metadata": {
        "id": "Ve9thDmecHv_"
      },
      "source": [
        "## Empirical Induction versus Mathematical Induction\n",
        "Quoting Martin Gardner:"
      ]
    },
    {
      "cell_type": "markdown",
      "metadata": {
        "id": "R2iOL_PqcSnV"
      },
      "source": [
        "Will the sun rise on January 1 next year? There is no way\n",
        "to be absolutely sure. It is always possible that the\n",
        "world will end before then by divine decree or by some\n",
        "natural calamity. ... The most we can say is that it is an\n",
        "excellent bet that on the next New Year's day, the sun\n",
        "will rise as usual. Our jump from a finite set of past\n",
        "sunrises to an infinite future set, or at least to a\n",
        "future set with a large number of elements, is an\n",
        "empirical induction.\n",
        "\n",
        "Mathematicians have an analogous technique known as\n",
        "mathematical induction or complete induction that also\n",
        "supports a jump from a finite set of cases to a larger or\n",
        "an infinite number of cases. Unlike empirical induction,\n",
        "the mathematical technique is entirely deductive. A \"jump\n",
        "proof\", as it is sometimes called, is as certain as any\n",
        "proof can be in mathematics.\n",
        "\n",
        "To prove something by mathematical induction we must first\n",
        "have a series of statements (usually an infinite series\n",
        "but not necessarily so) that can be put into a one-to-one\n",
        "correspondence with the positive integers. Second, we must\n",
        "establish that the statements are related to one another\n",
        "by ... the \"hereditary property\". If any statement is\n",
        "true, its successor --- the \"next\" statement --- is true.\n",
        "Third, we must show that the first statement is true. It\n",
        "then follows with iron certainty that all the statements\n",
        "are true.\n",
        "\n",
        "Jump proofs have been likened to a row of bricks or\n",
        "dominoes that are standing on end and all topple over when\n",
        "you unbalance the first one. [It's like] a pile of\n",
        "envelopes, each containing a note that says: \"Open the\n",
        "next envelope, read the order and carry it out.\" If you\n",
        "are committed to obeying the order in the first envelope,\n",
        "you must open all the envelopes and obey all the orders.\n"
      ]
    },
    {
      "cell_type": "markdown",
      "metadata": {
        "id": "_1f9HAjjc0xU"
      },
      "source": [
        "## The Principle of Mathematical Induction"
      ]
    },
    {
      "cell_type": "markdown",
      "metadata": {
        "id": "S9dCKFc7mQbJ"
      },
      "source": [
        "### Verbose version:"
      ]
    },
    {
      "cell_type": "markdown",
      "metadata": {
        "id": "McYxQiabc51R"
      },
      "source": [
        "```  \n",
        "  IF a proposition involving the positive integer N\n",
        "     can be proven to have the two properties:\n",
        "\n",
        "     1) The proposition is true for N = 1, and\n",
        "\n",
        "     2) IF K is any value of N\n",
        "          for which the proposition is true\n",
        "        THEN the proposition is also true\n",
        "          for the next value N = K + 1;\n",
        "  THEN the proposition is true\n",
        "    for all positive integral values of N.\n",
        "```"
      ]
    },
    {
      "cell_type": "markdown",
      "metadata": {
        "id": "4p0isiZwmV9M"
      },
      "source": [
        "### Succinct version:"
      ]
    },
    {
      "cell_type": "markdown",
      "metadata": {
        "id": "qe_vT9cWdLzL"
      },
      "source": [
        "$$[P(1) \\land \\forall{}k (P(k) \\rightarrow P(k + 1))] \\rightarrow \\forall{}n P(n)$$"
      ]
    },
    {
      "cell_type": "markdown",
      "metadata": {
        "id": "Md8mXzq_dhrQ"
      },
      "source": [
        "## Build an Infinite Argument\n"
      ]
    },
    {
      "cell_type": "markdown",
      "metadata": {
        "id": "sUzXFpPenMuv"
      },
      "source": [
        "Recall the rule of inference called Modus Ponens:\n",
        "$$[p \\land (p \\rightarrow q)] \\rightarrow q$$\n",
        "\n",
        "(IHOP = Inductive Hypothesis, MP = Modus Ponens)"
      ]
    },
    {
      "cell_type": "markdown",
      "metadata": {
        "id": "1AT14yVXdlwF"
      },
      "source": [
        "**Step** (**Reason**)\n",
        "\n",
        "1. $P(1)$ (Given)\n",
        "2. $P(1) \\rightarrow P(2)$ (IHOP)\n",
        "3. $P(2)$ (1, 2, MP)\n",
        "4. $P(2) \\rightarrow P(3)$ (IHOP)\n",
        "5. $P(3)$ (3, 4, MP)\n",
        "6. $P(3) \\rightarrow P(4)$ (IHOP)\n",
        "7. $P(4)$ (5, 6, MP)\n",
        "\n",
        "Etc., ad infinitum."
      ]
    },
    {
      "cell_type": "markdown",
      "metadata": {
        "id": "k7-t26Xxe8kZ"
      },
      "source": [
        "## Classic Example"
      ]
    },
    {
      "cell_type": "markdown",
      "metadata": {
        "id": "7D3GLUy0fCPi"
      },
      "source": [
        "Use mathematical induction to prove that the sum of the first $n$ odd positive integers is $n^2$.\n",
        "\n",
        "Let $P(n)$ be the proposition $\\sum_{j=1}^{n}(2j - 1) = n^2$.\n",
        "\n",
        "**Basis Step:** $P(1)$ is true since $(2 \\cdot 1 - 1) = 1 = 1^2$.\n",
        "\n",
        "**Inductive Step:** Assume $P(k)$ is true, that is\n",
        "\n",
        "$$\\sum_{j=1}^{k}(2j - 1) = k^2,$$\n",
        "\n",
        "so then\n",
        "\n",
        "$$\\sum_{j=1}^{k}(2j - 1) = 2 \\cdot 1 - 1 + 2 \\cdot 2 - 1 + \\ldots + 2 \\cdot k - 1,$$\n",
        "\n",
        "and to show $P(k) \\rightarrow P(k + 1)$\n",
        "\n",
        "(which completes the proof):\n",
        "\n",
        "$$\\begin{array}{lll} \\sum_{j=1}^{k + 1}(2j - 1)&=&\\sum_{j=1}^k(2j - 1) +\n",
        "  2(k + 1) - 1\\\\ &=& k^2 + 2(k + 1) - 1\\\\ &=& k^2 + 2k + 2 - 1\\\\ &=& k^2\n",
        "  + 2k + 1\\\\\n",
        "&=& (k + 1)^2\n",
        "\\end{array}$$\n",
        "\n",
        "QED\n"
      ]
    },
    {
      "cell_type": "markdown",
      "metadata": {
        "id": "cswa-wVdgByD"
      },
      "source": [
        "## Another Example\n",
        "with a \"non-one\" basis step:"
      ]
    },
    {
      "cell_type": "markdown",
      "metadata": {
        "id": "jlK3FUHcgJv-"
      },
      "source": [
        "Let $P(n)$ be $2^n > n^2$. Prove $\\forall n > 4 P(n)$.\n",
        "\n",
        "**Basis Step:** $P(5)$ is true since $2^5 = 32 > 25 = 5^2$.\n",
        "\n",
        "**Inductive Step:** Assume $P(k)$ is true, that is, assume $2^k > k^2$.\n",
        "\n",
        "Then,\n",
        "\n",
        "$$\\begin{array}{rll}\n",
        "2^{k+1} &=& 2 \\cdot 2^k\\\\\n",
        "        &=& 2^k + 2^k\\\\\n",
        "        &>& k^2 + k^2\\\\\n",
        "        &>& k^2 + 4k\\ \\mbox{(since k > 4)}\\\\\n",
        "        &>& k^2 + 2k + 1\\\\\n",
        "        &=& (k + 1)^2.\n",
        "\\end{array}$$\n",
        "\n",
        "QED\n"
      ]
    },
    {
      "cell_type": "markdown",
      "metadata": {
        "id": "f02O2XA2g1VC"
      },
      "source": [
        "\n",
        "Question: Which step above used $2^k > k^2$ (the inductive hypothesis)?"
      ]
    },
    {
      "cell_type": "markdown",
      "metadata": {
        "id": "z_y_sGgxkZoz"
      },
      "source": [
        "## Yet Another One"
      ]
    },
    {
      "cell_type": "markdown",
      "metadata": {
        "id": "XXDhKr3Wg6rE"
      },
      "source": [
        "Let $P(n)$ be the statement that $n! < n^n$, where $n \\in \\mathcal{Z}^{+}, n > 1$.\n",
        "\n",
        "What is the statement $P(2)$?\n",
        "\n",
        "Just plug in $n = 2: P(2)$ is the statement $2! < 2^2$.\n",
        "\n",
        "Show that $P(2)$ is true, completing the basis step of the proof.\n",
        "\n",
        "Since $2! = 2$ and $2^2 = 4$, this is the true statement $2 < 4$.\n",
        "\n",
        "What is the inductive hypothesis?\n",
        "\n",
        "It is the statement $k! < k^k$.\n",
        "\n",
        "What do you need to prove in the inductive step?\n",
        "\n",
        "You need to prove that for each $k \\ge 2$ that $P(k)$ implies $P(k + 1)$.\n",
        "\n",
        "In other words, show that assuming the inductive hypothesis $(k! < k^k)$ you can prove that $(k + 1)! < (k + 1)^{k + 1}$.\n",
        "\n",
        "Complete the inductive step.\n",
        "\n",
        "$$(k + 1)! = (k + 1)k! < (k + 1)k^k < (k + 1)(k + 1)^k = (k + 1)^{k + 1}.$$\n",
        "\n",
        "Having completed both the basis step and the inductive step, by the PMI, the statement is true for every $n \\in \\mathcal{Z}^{+}, n > 1$.\n",
        "\n",
        "QED\n",
        "\n"
      ]
    },
    {
      "cell_type": "markdown",
      "metadata": {
        "id": "HyTVkEJCiCCQ"
      },
      "source": [
        "## Still Yet Another One"
      ]
    },
    {
      "cell_type": "markdown",
      "metadata": {
        "id": "Chki6NBLiFdF"
      },
      "source": [
        "Find a formula for $\\frac{1}{1 \\cdot 2} + \\frac{1}{2 \\cdot 3} + \\cdots + \\frac{1}{n(n + 1)}$ by examining the values of this expression for small values of $n$.\n",
        "\n",
        "By computing the first few sums and getting the answers 1/2, 2/3, and 3/4, it's easy to guess that the sum is $\\frac{n}{n + 1}$.\n",
        "\n",
        "Prove this formula works for all $n \\in \\mathcal{Z}^{+}$ using the PMI.\n",
        "\n",
        "**BASE:** It is true for $n = 1$, since there is just one term, 1/2.\n",
        "\n",
        "**IHOP:** Suppose that $\\frac{1}{1 \\cdot 2} + \\frac{1}{2 \\cdot 3} + \\cdots + \\frac{1}{k(k + 1)} = \\frac{k}{k + 1}.$\n",
        "\n",
        "**GOAL:** You must now show that $$\\left[ \\frac{1}{1 \\cdot 2} + \\frac{1}{2 \\cdot 3} + \\cdots + \\frac{1}{k(k + 1)}\\right] + \\frac{1}{(k + 1)(k + 2)} = \\frac{k + 1}{k + 2}.$$\n",
        "\n",
        "Use the IHOP and do the algebra, reaching the desired expression:\n",
        "\n",
        "$$\\frac{k}{k + 1} + \\frac{1}{(k + 1)(k + 2)} = \\frac{k^2 + 2k + 1}{(k + 1)(k + 2)} = \\frac{k + 1}{k + 2}.$$\n",
        "\n",
        "QED"
      ]
    },
    {
      "cell_type": "markdown",
      "metadata": {
        "id": "knvuubgRi91z"
      },
      "source": [
        "## Even Still Yet Another One"
      ]
    },
    {
      "cell_type": "markdown",
      "metadata": {
        "id": "0cgo6UO_jBKg"
      },
      "source": [
        "Let $P(n)$ be $2^n > n^4$. (Or, $n^4 < 2^n$.)\n",
        "\n",
        "Prove $\\forall n>16 P(n)$.\n",
        "\n",
        "**BASE:** $P(17)$ is true since $2^{17} = 131072 > 83521 = 17^4$.\n",
        "\n",
        "**IHOP:** Assume $P(j)$ is true.\n",
        "\n",
        "(Note the switch to using $j$ rather than $k$ --- the point being that it doesn't matter what variable name you use.)\n",
        "\n",
        "Then it follows that\n",
        "$$\\begin{array}{rll}\n",
        "(j + 1)^4 &=& j^4 + 4j^3 + 6j^2 + 4j + 1\\\\\n",
        "          &<& j^4 + 4j^3 + 6j^3 + 4j^3 + 2j^3\\\\\n",
        "          &=& j^4 + 16j^3\\\\\n",
        "          &<& j^4 + j^4\\ (\\mbox{since}\\ 16 < j)\\\\\n",
        "          &=& 2j^4\\\\\n",
        "          &<& 2 \\cdot 2^j\\ \\mbox{(by the inductive hypothesis)}\\\\\n",
        "          &=& 2^{j+1},\\ \\mbox{as desired}.\n",
        "\\end{array}$$\n",
        "\n",
        "QED\n",
        "\n"
      ]
    },
    {
      "cell_type": "markdown",
      "metadata": {
        "id": "njDrvFuakh6k"
      },
      "source": [
        "## Above and Beyond Task"
      ]
    },
    {
      "cell_type": "markdown",
      "metadata": {
        "id": "hqps0nY3kk3K"
      },
      "source": [
        "Generalize this proof to show that $\\exists k\\ \\forall p\\ \\forall n > k\\ (2^n > n^p).$"
      ]
    },
    {
      "cell_type": "markdown",
      "metadata": {
        "id": "WZmI8jKtk9zO"
      },
      "source": [
        "## Fermat's Little Theorem"
      ]
    },
    {
      "cell_type": "markdown",
      "metadata": {
        "id": "lpp_ENptlBM_"
      },
      "source": [
        "All of this talk of proof by induction is prelude to proving a super important theorem not (yet) mentioned in the book, Fermat's Little Theorem (FLT):\n",
        "\n",
        "If $N$ is prime, and $X$ is any integer, then $N$ divides $X^N - X$."
      ]
    },
    {
      "cell_type": "markdown",
      "metadata": {
        "id": "X-4suC_9lNGo"
      },
      "source": [
        "### Proof by Induction on $X$"
      ]
    },
    {
      "cell_type": "markdown",
      "metadata": {
        "id": "2sv1e3uAlQSu"
      },
      "source": [
        "1. When $X = 0$, the theorem says that $N$ divides 0, which is clearly true.\n",
        "2. Suppose it holds for $X$ (inductive hypothesis).\n",
        "3. Then the remainder when $N$ goes into $X^N$ is $X$ (which is what the theorem says, restated).\n",
        "4. What is the remainder when $N$ goes into $(X + 1)^N$? (It should be $(X + 1)$ for the inductive argument to work.)\n",
        "5. Let's see by expanding $(X + 1)^N$ by the Binomial Theorem:\n",
        "6. $(X + 1)^N = X^N + {N \\choose N - 1}X^{N - 1} + {N \\choose N - 2}X^{N - 2} + \\cdots + {N \\choose 1}X + 1$.\n",
        "7. In terms of division by $N$, the ${N \\choose K}$ terms can't matter, since $N$ divides ${N \\choose K}$.\n",
        "8. So the remainder is the same as when $N$ goes into $X^N + 1$, and therefore it's $(X + 1)$.\n",
        "9. QED\n"
      ]
    },
    {
      "cell_type": "markdown",
      "metadata": {
        "id": "fiq570ORmBkH"
      },
      "source": [
        "### TODO Answer the Question"
      ]
    },
    {
      "cell_type": "markdown",
      "metadata": {
        "id": "t9XehsoHmEd6"
      },
      "source": [
        "Which step in the above inductive proof of FLT best connects with a basic pattern found in **some** but **NOT all** rows of Pascal's Triangle?\r\n",
        "\r\n",
        "We determined that the step above that connects with a basic pattern in Pascal's triangle was step 5. We found that by plugging in numbers, we were able to genreate rows of Pascal's triangle. We didn't find any, but we theorized that if we tried numbers too large, it would fail to produce the correct row for pascal's triangle."
      ]
    }
  ]
}