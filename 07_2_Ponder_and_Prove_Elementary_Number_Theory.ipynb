{
  "nbformat": 4,
  "nbformat_minor": 0,
  "metadata": {
    "kernelspec": {
      "display_name": "Python 3",
      "language": "python",
      "name": "python3"
    },
    "language_info": {
      "codemirror_mode": {
        "name": "ipython",
        "version": 3
      },
      "file_extension": ".py",
      "mimetype": "text/x-python",
      "name": "python",
      "nbconvert_exporter": "python",
      "pygments_lexer": "ipython3",
      "version": "3.9.0"
    },
    "colab": {
      "name": "07_2_Ponder_and_Prove_Elementary_Number_Theory.ipynb",
      "provenance": []
    }
  },
  "cells": [
    {
      "cell_type": "markdown",
      "metadata": {
        "id": "1rG4k7VvQ2WT"
      },
      "source": [
        "# Ponder and Prove Elementary Number Theory\n",
        "#### Due: Saturday, 20 February 2021, 11:59 pm."
      ]
    },
    {
      "cell_type": "markdown",
      "metadata": {
        "id": "W0WxE3IAQ2WU"
      },
      "source": [
        "## Explore Fermat's Little Theorem Further\n"
      ]
    },
    {
      "cell_type": "markdown",
      "metadata": {
        "id": "w2vby9erSjOv"
      },
      "source": [
        "Fermat's Little Theorem (FLT) says that if $N$ is prime, then $N$ divides $X^N - X$.\n",
        "\n",
        "Remember, the contrapositive of the conditional statement in this theorem is that if $N$ **doesn't** divide $X^N - X$ for some $X$, then $N$ **can't** be prime.\n",
        "\n",
        "Unfortunately, this simple primality test doesn't always work, because it can be fooled by **pseudoprimes**.\n",
        "\n",
        "For example, $341 = 11 \\cdot 31$ is not prime. But $341$ **does** divide $2^{341} - 2$ as verified below:"
      ]
    },
    {
      "cell_type": "code",
      "metadata": {
        "id": "NBrPMgZoTLAe"
      },
      "source": [
        "((2 ** 341) - 2) % 341"
      ],
      "execution_count": null,
      "outputs": []
    },
    {
      "cell_type": "markdown",
      "metadata": {
        "id": "igGoVqAOTTm_"
      },
      "source": [
        "So $341$ is a so-called **base-2 pseudoprime**. What about **base-3**?"
      ]
    },
    {
      "cell_type": "code",
      "metadata": {
        "id": "hwrSZ1xDTVxW"
      },
      "source": [
        "((3 ** 341) - 3) % 341"
      ],
      "execution_count": null,
      "outputs": []
    },
    {
      "cell_type": "markdown",
      "metadata": {
        "id": "sc9w28MiTZXk"
      },
      "source": [
        "Check that the result is not zero, therefore $341$ is **not** a **base-3 pseudoprime**.\n",
        "\n",
        "Are there any other bases that will not fool the FLT test for $341$?\n",
        "\n",
        "Are there any pseudoprimes that will fool the FLT for **any choice** of base coprime to them?"
      ]
    },
    {
      "cell_type": "markdown",
      "metadata": {
        "id": "AMFTYECVTgy4"
      },
      "source": [
        "### The answer is yes."
      ]
    },
    {
      "cell_type": "markdown",
      "metadata": {
        "id": "u-CxbDylTkYp"
      },
      "source": [
        "Your task is the find the first 4-digit **bullet-proof pseudoprime** (**bppp**) and **prove** (yes, **PROVE**) that it will fool the FLT test for every base coprime to it.\n",
        "\n",
        "Your proof must use all of the following:\n",
        "1. the definition of coprime,\n",
        "2. a consequence of coprimality,\n",
        "3. the factorization of the **bppp**,\n",
        "4. FLT, and the\n",
        "5. CRT (Chinese Remainder Theorem).\n"
      ]
    },
    {
      "cell_type": "markdown",
      "metadata": {
        "id": "ucrhNfDQ6X_8"
      },
      "source": [
        "1387 is a bullet-proof pseudoprime. It passes the test, regardless of what the base is. However, 19 * 73 = 1387. Two numbers are coprime if they share no prime numbers that can divide them. This means that some numbers that are coprime can produce a pseudoprime product, such as in the case of 19 and 73."
      ]
    },
    {
      "cell_type": "markdown",
      "metadata": {
        "id": "5Cgy_0B4Q2WW"
      },
      "source": [
        "## What is True?\n",
        "Assess yourself on how you did using the checkboxes below. Check a box by putting an 'X' in it only if it is warranted.\n"
      ]
    },
    {
      "cell_type": "markdown",
      "metadata": {
        "id": "81dbKwHenxnT"
      },
      "source": [
        "# TODO My Report on What I Did and What I Learned"
      ]
    },
    {
      "cell_type": "markdown",
      "metadata": {
        "id": "C8BeiIern33B"
      },
      "source": [
        "## Fun\n",
        "Replace these words with your own detailing how you had fun (if you did)."
      ]
    },
    {
      "cell_type": "markdown",
      "metadata": {
        "id": "OzOkZ3son-u9"
      },
      "source": [
        "## New\n",
        "Replace these words with your own detailing what was something new you learned (if anything)."
      ]
    },
    {
      "cell_type": "markdown",
      "metadata": {
        "id": "mJHvoj6GokaZ"
      },
      "source": [
        "## Meaningful\n",
        "Replace these words with your own detailing what you achieved that was meaningful or that you can build upon."
      ]
    },
    {
      "cell_type": "markdown",
      "metadata": {
        "id": "_RBE03fhpNUG"
      },
      "source": [
        "## Other\n",
        "Replace these words with your own describing other topics or sections of your report --- Connections, Collaborator Contributions, or anything else you feel impressed to add."
      ]
    },
    {
      "cell_type": "markdown",
      "metadata": {
        "id": "Nrk-8EmgW4NP"
      },
      "source": [
        "# TODO What is True?\n",
        "Click on each warranted checkbox to toggle it to True (or back to False). \n",
        "\n",
        "NOTE: *This only works in Colab. If you run it in some other Jupyter notebook client/server environment you may have to change False to True (or vice versa) manually.*\n",
        "\n",
        "This self-assessment is subject to revision by a grader."
      ]
    },
    {
      "cell_type": "code",
      "metadata": {
        "id": "qGAjzgVRXR4M"
      },
      "source": [
        "#@markdown ## What is True about what I did?\n",
        "#@markdown ### I had fun.\n",
        "cb00 = True #@param {type:'boolean'}\n",
        "#@markdown ### I learned something new.\n",
        "cb01 = True #@param {type:'boolean'}\n",
        "#@markdown ### I achieved something meaningful, or something I can build upon at a later time.\n",
        "cb02 = True #@param {type:'boolean'}\n",
        "#@markdown ## What is true about my report?\n",
        "#@markdown ### I wrote a sufficient number of well-written sentences.\n",
        "cb03 = True #@param {type:'boolean'}\n",
        "#@markdown ### My report is free of mechanical infelicities.\n",
        "cb04 = True #@param {type:'boolean'}\n",
        "#@markdown ### I used Grammarly (or something better described in my report) to check for MIs.\n",
        "cb05 = True #@param {type:'boolean'}\n",
        "#@markdown ### I reported on any connections I found between these problems and something I already know. \n",
        "cb06 = True #@param {type:'boolean'}\n",
        "#@markdown ### I reported who were and what contribution each of my collaborators made.\n",
        "cb07 = True #@param {type:'boolean'}\n",
        "#@markdown ## What is true about my proof?\n",
        "#@markdown ### It succinctly uses the definition of coprime.\n",
        "cb08 = True #@param {type:'boolean'}\n",
        "#@markdown ### It correctly uses the definition of coprime.\n",
        "cb09 = True #@param {type:'boolean'}\n",
        "#@markdown ### It succinctly uses a consequence of comprimality\n",
        "cb10 = True #@param {type:'boolean'}\n",
        "#@markdown ### It correctly uses a consequence of comprimality\n",
        "cb11 = True #@param {type:'boolean'}\n",
        "#@markdown ### It succinctly uses the factorization of the **bppp**,\n",
        "cb12 = True #@param {type:'boolean'}\n",
        "#@markdown ### It correctly uses the factorization of the **bppp**,\n",
        "cb13 = True #@param {type:'boolean'}\n",
        "#@markdown ### It succinctly uses Fermat's Little Theorem. \n",
        "cb14 = False #@param {type:'boolean'}\n",
        "#@markdown ### It correctly uses Fermat's Little Theorem. \n",
        "cb15 = False #@param {type:'boolean'}\n",
        "#@markdown ### It succinctly uses the Chinese Remainder Theorem.\n",
        "cb16 = False #@param {type:'boolean'}\n",
        "#@markdown ### It correctly uses the Chinese Remainder Theorem.\n",
        "cb17 = False #@param {type:'boolean'}\n",
        "\n"
      ],
      "execution_count": null,
      "outputs": []
    },
    {
      "cell_type": "markdown",
      "metadata": {
        "id": "q8KESLBANSkC"
      },
      "source": [
        "## DO NOT CHANGE ANYTHING IN THE NEXT CODE CELL!!\n",
        "### Delete this cell and the following ones before submitting your work."
      ]
    },
    {
      "cell_type": "code",
      "metadata": {
        "id": "rJ_vaL0DWwoc"
      },
      "source": [
        "points_for_what_I_did = [5]*3\n",
        "points_for_my_report = [7]*5\n",
        "points_for_my_proof = [5]*10\n",
        "points = points_for_what_I_did + points_for_my_report + points_for_my_proof\n",
        "# cb is short for checkbox\n",
        "total = sum(map(lambda n, p: p if eval(f'cb{n:02}') else 0,\n",
        "                range(len(points)), points))             \n",
        "total"
      ],
      "execution_count": null,
      "outputs": []
    },
    {
      "cell_type": "markdown",
      "metadata": {
        "id": "muxeYgQQKGEU"
      },
      "source": [
        "# For graders"
      ]
    },
    {
      "cell_type": "code",
      "metadata": {
        "id": "c0ldoieNKMTU"
      },
      "source": [
        "#@markdown ---\n",
        "number_of_MIs_found = 0 #@param {type: 'slider', min: 0, max: 5}\n",
        "#@markdown ---\n"
      ],
      "execution_count": null,
      "outputs": []
    }
  ]
}