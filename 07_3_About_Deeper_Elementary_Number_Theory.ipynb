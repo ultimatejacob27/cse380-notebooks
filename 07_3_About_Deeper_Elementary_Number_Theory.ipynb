{
  "nbformat": 4,
  "nbformat_minor": 0,
  "metadata": {
    "colab": {
      "name": " 07_3_About_Deeper_Elementary_Number_Theory.ipynb",
      "provenance": []
    },
    "kernelspec": {
      "name": "python3",
      "display_name": "Python 3"
    }
  },
  "cells": [
    {
      "cell_type": "markdown",
      "metadata": {
        "id": "fKBSJ5Hh6UMv"
      },
      "source": [
        "# About Deeper Elementary Number Theory\n",
        "## Class Directed Learning\n",
        "### Due: Wednesday, 17 February 2021, 11:59 pm"
      ]
    },
    {
      "cell_type": "markdown",
      "metadata": {
        "id": "yx-XMrWE6hEw"
      },
      "source": [
        "## Read and Ponder\n",
        "https://byui-cse.github.io/cse380-course/about-deeper-elementary-number-theory.pdf\n",
        "\n",
        "Put your answers in cells you will add below.\n",
        "\n",
        "Above and beyond behavior: Incorporate the material in the PDF into this notebook."
      ]
    },
    {
      "cell_type": "markdown",
      "metadata": {
        "id": "QrRCsD69Iqkv"
      },
      "source": [
        "The step that references the fact that N is prime is step 7, which step 8 then refers to.\r\n",
        "\r\n",
        "You can try, but it won't be very accurate. Using N/log(N), as N increases, the result of the formula will approach a whole number, then pass it and move towards the next whole number. The closer the result is to a whole number, the more likely it is that N is a prime number. You can at least tell that N is close to a prime number."
      ]
    }
  ]
}